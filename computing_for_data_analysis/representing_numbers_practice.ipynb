{
 "cells": [
  {
   "cell_type": "code",
   "execution_count": 10,
   "metadata": {
    "collapsed": true
   },
   "outputs": [],
   "source": [
    "def decimal(value, base):\n",
    "    if '.' in value:\n",
    "        whole, dec = value.split('.')\n",
    "        return sum([int(n)*base**p for p,n in enumerate(whole[::-1])]) + sum(int(n)*base**(-1*(p+1)) for p,n in enumerate(dec))\n",
    "    else:\n",
    "        return sum([int(n)*base**p for p,n in enumerate(whole[::-1])])"
   ]
  },
  {
   "cell_type": "code",
   "execution_count": 6,
   "metadata": {},
   "outputs": [
    {
     "data": {
      "text/plain": [
       "4.625"
      ]
     },
     "execution_count": 6,
     "metadata": {},
     "output_type": "execute_result"
    }
   ],
   "source": [
    "in_str = '11.0010001111'\n",
    "\n",
    "decimal('100.101', 2)"
   ]
  },
  {
   "cell_type": "code",
   "execution_count": 4,
   "metadata": {
    "collapsed": true
   },
   "outputs": [],
   "source": [
    "def decimal(value, base):\n",
    "    if '.' in value:\n",
    "        whole, dec = value.split('.')\n",
    "        return int(whole, base) + sum(int(n)*base**(-1*(p+1)) for p,n in enumerate(dec))\n",
    "    else:\n",
    "        return float(int(value, base))"
   ]
  },
  {
   "cell_type": "code",
   "execution_count": null,
   "metadata": {
    "collapsed": true
   },
   "outputs": [],
   "source": []
  }
 ],
 "metadata": {
  "kernelspec": {
   "display_name": "Python 3",
   "language": "python",
   "name": "python3"
  },
  "language_info": {
   "codemirror_mode": {
    "name": "ipython",
    "version": 3
   },
   "file_extension": ".py",
   "mimetype": "text/x-python",
   "name": "python",
   "nbconvert_exporter": "python",
   "pygments_lexer": "ipython3",
   "version": "3.6.1"
  }
 },
 "nbformat": 4,
 "nbformat_minor": 2
}
