{
 "cells": [
  {
   "cell_type": "code",
   "execution_count": 20,
   "metadata": {},
   "outputs": [
    {
     "name": "stdout",
     "output_type": "stream",
     "text": [
      "[['Beans', 'Oil', 'Rice', 'Cilantro'], ['Beans', 'Rice', 'Avocado'], ['Cheese', 'Beans', 'Lettuce']]\n"
     ]
    }
   ],
   "source": [
    "receipts = [[\"Rice\", \"Beans\", \"Oil\", \"Cilantro\"], [\"Rice\", \"Beans\", \"Beans\", \"Avocado\"], [\"Lettuce\", \"Cheese\", \"Beans\"]]\n",
    "\n",
    "# let's eliminate duplicates from each receipt\n",
    "R = [list(set(receipt)) for receipt in receipts]\n",
    "print(R)"
   ]
  },
  {
   "cell_type": "code",
   "execution_count": 21,
   "metadata": {},
   "outputs": [
    {
     "name": "stdout",
     "output_type": "stream",
     "text": [
      "{'Cheese', 'Rice', 'Oil', 'Beans', 'Cilantro', 'Lettuce', 'Avocado'}\n"
     ]
    }
   ],
   "source": [
    "from functools import reduce\n",
    "\n",
    "A = set(reduce(lambda a,b:a+b, R))\n",
    "\n",
    "print(A)"
   ]
  },
  {
   "cell_type": "code",
   "execution_count": 22,
   "metadata": {
    "collapsed": true
   },
   "outputs": [],
   "source": [
    "from collections import defaultdict\n",
    "\n",
    "T = defaultdict(dict)"
   ]
  },
  {
   "cell_type": "code",
   "execution_count": 23,
   "metadata": {
    "collapsed": true
   },
   "outputs": [],
   "source": [
    "def not_the_same(item1, item2):\n",
    "    return item1 != item2"
   ]
  },
  {
   "cell_type": "code",
   "execution_count": 24,
   "metadata": {
    "collapsed": true
   },
   "outputs": [],
   "source": [
    "for x in A:\n",
    "    for y in A:\n",
    "        if not_the_same(x,y):\n",
    "            T[x][y] = 0"
   ]
  },
  {
   "cell_type": "code",
   "execution_count": 25,
   "metadata": {},
   "outputs": [
    {
     "name": "stdout",
     "output_type": "stream",
     "text": [
      "defaultdict(<class 'dict'>, {'Cheese': {'Rice': 0, 'Oil': 0, 'Beans': 0, 'Cilantro': 0, 'Lettuce': 0, 'Avocado': 0}, 'Rice': {'Cheese': 0, 'Oil': 0, 'Beans': 0, 'Cilantro': 0, 'Lettuce': 0, 'Avocado': 0}, 'Oil': {'Cheese': 0, 'Rice': 0, 'Beans': 0, 'Cilantro': 0, 'Lettuce': 0, 'Avocado': 0}, 'Beans': {'Cheese': 0, 'Rice': 0, 'Oil': 0, 'Cilantro': 0, 'Lettuce': 0, 'Avocado': 0}, 'Cilantro': {'Cheese': 0, 'Rice': 0, 'Oil': 0, 'Beans': 0, 'Lettuce': 0, 'Avocado': 0}, 'Lettuce': {'Cheese': 0, 'Rice': 0, 'Oil': 0, 'Beans': 0, 'Cilantro': 0, 'Avocado': 0}, 'Avocado': {'Cheese': 0, 'Rice': 0, 'Oil': 0, 'Beans': 0, 'Cilantro': 0, 'Lettuce': 0}})\n"
     ]
    }
   ],
   "source": [
    "print(T)"
   ]
  },
  {
   "cell_type": "code",
   "execution_count": 27,
   "metadata": {},
   "outputs": [
    {
     "name": "stdout",
     "output_type": "stream",
     "text": [
      "[('a', 'b'), ('a', 'c'), ('b', 'c')]\n"
     ]
    }
   ],
   "source": [
    "# check if pair2 is the reverse of pair1\n",
    "def is_reverse(pair1, pair2):\n",
    "    return pair2 == pair1[::-1]"
   ]
  },
  {
   "cell_type": "code",
   "execution_count": 29,
   "metadata": {
    "collapsed": true
   },
   "outputs": [],
   "source": [
    "def all_pairs(items):\n",
    "        # make pairs of all items in a list, eliminating duplicates, reverse of pairs\n",
    "        # ['a', 'b', 'c'] -> [('a', 'b'), ('a', 'c'), ('b', 'c')]\n",
    "\n",
    "        # eliminating duplicates\n",
    "        output_pairs = [(item1,item2) for item1 in items for item2 in items if not_the_same(item2,item1)]\n",
    "        \n",
    "        # removing reverse of pairs\n",
    "        for pair1 in output_pairs:\n",
    "            for pair2 in output_pairs:\n",
    "                if is_reverse(pair2, pair1):\n",
    "                    output_pairs.remove(pair2)\n",
    "        \n",
    "        return output_pairs"
   ]
  },
  {
   "cell_type": "code",
   "execution_count": 31,
   "metadata": {},
   "outputs": [
    {
     "name": "stdout",
     "output_type": "stream",
     "text": [
      "[('Beans', 'Oil'), ('Beans', 'Rice'), ('Beans', 'Cilantro'), ('Oil', 'Rice'), ('Oil', 'Cilantro'), ('Rice', 'Cilantro'), ('Beans', 'Rice'), ('Beans', 'Avocado'), ('Rice', 'Avocado'), ('Cheese', 'Beans'), ('Cheese', 'Lettuce'), ('Beans', 'Lettuce')]\n"
     ]
    }
   ],
   "source": [
    "all_pairs_of_items = reduce(lambda a,b:a+b, [all_pairs(items) for items in R])\n",
    "print(all_pairs_of_items)"
   ]
  },
  {
   "cell_type": "code",
   "execution_count": 32,
   "metadata": {},
   "outputs": [
    {
     "name": "stdout",
     "output_type": "stream",
     "text": [
      "Beans Oil\n",
      "Beans Rice\n",
      "Beans Cilantro\n",
      "Oil Rice\n",
      "Oil Cilantro\n",
      "Rice Cilantro\n",
      "Beans Rice\n",
      "Beans Avocado\n",
      "Rice Avocado\n",
      "Cheese Beans\n",
      "Cheese Lettuce\n",
      "Beans Lettuce\n"
     ]
    }
   ],
   "source": [
    "for x,y in all_pairs_of_items:\n",
    "    print(x,y)"
   ]
  },
  {
   "cell_type": "code",
   "execution_count": 44,
   "metadata": {},
   "outputs": [],
   "source": [
    "from collections import Counter\n",
    "\n",
    "item_pairs_count = Counter(all_pairs_of_items)"
   ]
  },
  {
   "cell_type": "code",
   "execution_count": 38,
   "metadata": {},
   "outputs": [],
   "source": [
    "all_items = list(zip(*all_pairs_of_items))"
   ]
  },
  {
   "cell_type": "code",
   "execution_count": 43,
   "metadata": {},
   "outputs": [
    {
     "name": "stdout",
     "output_type": "stream",
     "text": [
      "Counter({'Beans': 7, 'Rice': 5, 'Oil': 3, 'Cilantro': 3, 'Cheese': 2, 'Avocado': 2, 'Lettuce': 2})\n"
     ]
    }
   ],
   "source": [
    "na = Counter(reduce(lambda a,b:a+b, all_items))\n",
    "print(na)"
   ]
  }
 ],
 "metadata": {
  "kernelspec": {
   "display_name": "Python 3",
   "language": "python",
   "name": "python3"
  },
  "language_info": {
   "codemirror_mode": {
    "name": "ipython",
    "version": 3
   },
   "file_extension": ".py",
   "mimetype": "text/x-python",
   "name": "python",
   "nbconvert_exporter": "python",
   "pygments_lexer": "ipython3",
   "version": "3.6.1"
  }
 },
 "nbformat": 4,
 "nbformat_minor": 2
}
